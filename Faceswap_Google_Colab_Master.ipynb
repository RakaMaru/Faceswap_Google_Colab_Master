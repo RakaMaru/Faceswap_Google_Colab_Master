{
  "nbformat": 4,
  "nbformat_minor": 0,
  "metadata": {
    "colab": {
      "name": "Faceswap_Google_Colab_Master.ipynb",
      "provenance": [],
      "private_outputs": true,
      "collapsed_sections": [
        "FihV6led3S0g",
        "X8Me0Og6vM_N",
        "9Zmp-8hrzRoG",
        "6Cf-0G6-fYUg",
        "e1yNPAbSSKdK",
        "9IvtNv6w3KGX"
      ],
      "toc_visible": true,
      "authorship_tag": "ABX9TyPeADtQfSqKKbsilEE9BowK",
      "include_colab_link": true
    },
    "kernelspec": {
      "name": "python3",
      "display_name": "Python 3"
    },
    "accelerator": "GPU"
  },
  "cells": [
    {
      "cell_type": "markdown",
      "metadata": {
        "id": "view-in-github",
        "colab_type": "text"
      },
      "source": [
        "<a href=\"https://colab.research.google.com/github/RakaMaru/Faceswap_Google_Colab_Master/blob/master/Faceswap_Google_Colab_Master.ipynb\" target=\"_parent\"><img src=\"https://colab.research.google.com/assets/colab-badge.svg\" alt=\"Open In Colab\"/></a>"
      ]
    },
    {
      "cell_type": "markdown",
      "metadata": {
        "id": "FihV6led3S0g",
        "colab_type": "text"
      },
      "source": [
        "# Instructions"
      ]
    },
    {
      "cell_type": "markdown",
      "metadata": {
        "id": "iLDlBRZ83YBn",
        "colab_type": "text"
      },
      "source": [
        "Google Colab Notebook for Faceswap\n",
        "\n",
        "Files you need to put on Google Drive\n",
        "1.   face_a.zip\n",
        "2.   face_b.zip\n",
        "> Zipped files with extracted faces and alignments.fsa\n",
        "3.   train.ini\n",
        "> Your train.ini from your local system, in Windows this is in: C:\\Users\\YourName\\faceswap\\config\n",
        "\n",
        "Here is what my filesystem looks like in Google Drive\n",
        "*   /colab_files/faceswap/faces/face_a.zip\n",
        "*   /colab_files/faceswap/faces/face_b.zip\n",
        "*   /colab_files/faceswap/config/train.ini\n",
        "\n",
        "Recommended folders to create on Google Drive:\n",
        "*   /colab_files/faceswap/models/YourModelName\n",
        "*   /colab_files/faceswap/output/timelapse\n",
        "\n",
        "Here is what my filesystem looks like in this Google Colab after the \"Mount Google Drive\" step below.\n",
        "*   /content/drive/My Drive/colab_files/faceswap/faces/face_a.zip\n",
        "*   /content/drive/My Drive/colab_files/faceswap/faces/face_b.zip\n",
        "*   /content/drive/My Drive/colab_files/faceswap/config/train.ini"
      ]
    },
    {
      "cell_type": "markdown",
      "metadata": {
        "id": "X8Me0Og6vM_N",
        "colab_type": "text"
      },
      "source": [
        "# Usage Notes"
      ]
    },
    {
      "cell_type": "markdown",
      "metadata": {
        "id": "p2aNoS2CvR8m",
        "colab_type": "text"
      },
      "source": [
        "This is my personal SOP for handling the Faceswap process. I find it is best to tweak your settings, extract, test your training, and convert everything using your local system.\n",
        "\n",
        "But training on my laptop took weeks to get the same results that you can get from just days by using a Google Colab.\n",
        "\n",
        "*   Extract, Align, then Zip all Faces A\n",
        "*   Extract, Align, then Zip all Faces B\n",
        "*   Modify the \"Run Training\" script below to your preferences\n",
        "*   Train in this Colab Notebook\n",
        "*   Watch Google Drive timestamp folder to see how the training is improving\n",
        "*   Download YourModelName to your local system\n",
        "*   Convert using the downloaded model\n"
      ]
    },
    {
      "cell_type": "markdown",
      "metadata": {
        "id": "9Zmp-8hrzRoG",
        "colab_type": "text"
      },
      "source": [
        "# Credits"
      ]
    },
    {
      "cell_type": "markdown",
      "metadata": {
        "id": "AREFpzzGzV9-",
        "colab_type": "text"
      },
      "source": [
        "Thank you Faceswap Community\n",
        "\n",
        "*   https://faceswap.dev/\n",
        "*   https://forum.faceswap.dev/\n",
        "*   The other Github Google Colab notebooks which inspired this one\n",
        "\n"
      ]
    },
    {
      "cell_type": "markdown",
      "metadata": {
        "id": "6Cf-0G6-fYUg",
        "colab_type": "text"
      },
      "source": [
        "# Check Your System"
      ]
    },
    {
      "cell_type": "code",
      "metadata": {
        "id": "SbYsk5P-PuqH",
        "colab_type": "code",
        "colab": {}
      },
      "source": [
        "#@title Use this to check the assigned GPU\n",
        "\n",
        "!cat /etc/os-release\n",
        "\n",
        "def install_dependencies():\n",
        "  !ln -sf /opt/bin/nvidia-smi /usr/bin/nvidia-smi;\n",
        "  !pip install gputil;\n",
        "  !pip install psutil;\n",
        "  !pip install humanize;%%capture\n",
        "\n",
        "\n",
        "def printm():\n",
        " GPUs = GPU.getGPUs()\n",
        "\n",
        " if len(GPUs) == 0:\n",
        "  print(\"No GPU available.\")\n",
        "  return\n",
        "\n",
        " gpu = GPUs[0]\n",
        " process = psutil.Process(os.getpid())\n",
        " print(\"Gen RAM Free: \" + humanize.naturalsize( psutil.virtual_memory().available ), \" | Proc size: \" + humanize.naturalsize( process.memory_info().rss))\n",
        " print(\"GPU RAM Free: {0:.0f}MB | Used: {1:.0f}MB | Util {2:3.0f}% | Total {3:.0f}MB\".format(gpu.memoryFree, gpu.memoryUsed, gpu.memoryUtil*100, gpu.memoryTotal))\n",
        "\n",
        "from IPython.utils import io\n",
        "from google.colab import drive\n",
        "import psutil\n",
        "import humanize\n",
        "import os\n",
        " \n",
        "with io.capture_output() as captured:\n",
        "  install_dependencies()\n",
        "print(\"Dependencies installed.\")\n",
        "\n",
        "\n",
        "import GPUtil as GPU\n",
        "\n",
        "printm()"
      ],
      "execution_count": null,
      "outputs": []
    },
    {
      "cell_type": "markdown",
      "metadata": {
        "id": "e1yNPAbSSKdK",
        "colab_type": "text"
      },
      "source": [
        "# Setup Faceswap"
      ]
    },
    {
      "cell_type": "code",
      "metadata": {
        "id": "nZ0sa6XRJ-33",
        "colab_type": "code",
        "colab": {}
      },
      "source": [
        "#@title Set Time Zone\n",
        "!rm /etc/localtime\n",
        "!ln -s /usr/share/zoneinfo/HST /etc/localtime\n",
        "!date\n",
        "\n",
        "#above is for HST, you can find yours in\n",
        "#/usr/share/zoneinfo\n"
      ],
      "execution_count": null,
      "outputs": []
    },
    {
      "cell_type": "code",
      "metadata": {
        "id": "BuNRgHGRSP59",
        "colab_type": "code",
        "colab": {}
      },
      "source": [
        "#@title Mount Google Drive\n",
        "\n",
        "from google.colab import drive\n",
        "drive.mount('/content/drive', force_remount=True)"
      ],
      "execution_count": null,
      "outputs": []
    },
    {
      "cell_type": "code",
      "metadata": {
        "id": "KlrAB2v9Ze0b",
        "colab_type": "code",
        "colab": {}
      },
      "source": [
        "#@title Cleanup folders if needed\n",
        "\n",
        "!rm -r face_a\n",
        "!rm -r face_b\n"
      ],
      "execution_count": null,
      "outputs": []
    },
    {
      "cell_type": "code",
      "metadata": {
        "id": "NGs28NN6VuSD",
        "colab_type": "code",
        "colab": {}
      },
      "source": [
        "#@title Download training data\n",
        "!cp \"/content/drive/My Drive/colab_files/faceswap/faces/face_a.zip\" .\n",
        "!cp \"/content/drive/My Drive/colab_files/faceswap/faces/face_b.zip\" .\n",
        "\n",
        "!unzip face_a.zip -d face_a\n",
        "!unzip face_b.zip -d face_b\n",
        "\n",
        "!rm face_a.zip\n",
        "!rm face_b.zip\n"
      ],
      "execution_count": null,
      "outputs": []
    },
    {
      "cell_type": "code",
      "metadata": {
        "id": "NUHDDCPCcDKW",
        "colab_type": "code",
        "colab": {}
      },
      "source": [
        "#@title Grab the latest Faceswap\n",
        "!git clone https://github.com/deepfakes/faceswap.git"
      ],
      "execution_count": null,
      "outputs": []
    },
    {
      "cell_type": "code",
      "metadata": {
        "id": "HP9m733KiKG6",
        "colab_type": "code",
        "colab": {}
      },
      "source": [
        "#@title Copy configuration files\n",
        "!cp \"/content/drive/My Drive/colab_files/faceswap/config/train.ini\" faceswap/config/\n",
        "!ls -lA faceswap/config/\n",
        "!cat faceswap/config/train.ini"
      ],
      "execution_count": null,
      "outputs": []
    },
    {
      "cell_type": "code",
      "metadata": {
        "id": "VDzky8jnfDzE",
        "colab_type": "code",
        "colab": {}
      },
      "source": [
        "#@title Install Tensorflow\n",
        "\n",
        "!pip install -r faceswap/requirements_nvidia.txt\n"
      ],
      "execution_count": null,
      "outputs": []
    },
    {
      "cell_type": "markdown",
      "metadata": {
        "id": "9IvtNv6w3KGX",
        "colab_type": "text"
      },
      "source": [
        "# Run Training"
      ]
    },
    {
      "cell_type": "code",
      "metadata": {
        "id": "kAj-tLiJgUTM",
        "colab_type": "code",
        "colab": {}
      },
      "source": [
        "#set variables start\n",
        "num_iterations = \"100000\"\n",
        "save_every = \"360\"\n",
        "save_model_every = \"25000\"\n",
        "batch_num = \"16\"\n",
        "num_gpus = \"1\"\n",
        "\n",
        "trainer_type = \"dlight\"\n",
        "\n",
        "model_dir = \"/content/drive/My Drive/colab_files/faceswap/models/YourModelName\"\n",
        "alignments_file_a = \"face_a/alignments.fsa\"\n",
        "alignments_file_b = \"face_b/alignments.fsa\"\n",
        "timelapse_dir = \"/content/drive/My Drive/colab_files/faceswap/output/timelapse\"\n",
        "#set variables end\n",
        "\n",
        "!python3 faceswap/faceswap.py train \\\n",
        "  -A 'face_a' -ala '{alignments_file_a}' \\\n",
        "  -B 'face_b' -alb '{alignments_file_b}' \\\n",
        "  -m '{model_dir}' \\\n",
        "  -t '{trainer_type}' \\\n",
        "  -bs '{batch_num}' \\\n",
        "  -it '{num_iterations}' \\\n",
        "  -g '{num_gpus}' \\\n",
        "  -s '{save_every}' \\\n",
        "  -ss '{save_model_every}' \\\n",
        "  -tia 'face_a' \\\n",
        "  -tib 'face_b' \\\n",
        "  -to '{timelapse_dir}'\n"
      ],
      "execution_count": null,
      "outputs": []
    }
  ]
}